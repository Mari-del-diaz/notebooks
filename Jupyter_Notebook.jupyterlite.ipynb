{
  "metadata": {
    "language_info": {
      "codemirror_mode": {
        "name": "python",
        "version": 3
      },
      "file_extension": ".py",
      "mimetype": "text/x-python",
      "name": "python",
      "nbconvert_exporter": "python",
      "pygments_lexer": "ipython3",
      "version": "3.8"
    },
    "kernelspec": {
      "name": "python",
      "display_name": "Pyolite",
      "language": "python"
    }
  },
  "nbformat_minor": 4,
  "nbformat": 4,
  "cells": [
    {
      "cell_type": "markdown",
      "source": "<center>\n    <img src=\"https://s3-api.us-geo.objectstorage.softlayer.net/cf-courses-data/CognitiveClass/Logos/organization_logo/organization_logo.png\" width=\"300\" alt=\"cognitiveclass.ai logo\"  />\n</center>\n",
      "metadata": {}
    },
    {
      "cell_type": "markdown",
      "source": "#### Agregue su código a continuación siguiendo las instrucciones dadas en el curso\n",
      "metadata": {}
    },
    {
      "cell_type": "markdown",
      "source": "<h1> My Jupyter Notebook on IBM Watson Studio",
      "metadata": {}
    },
    {
      "cell_type": "markdown",
      "source": "**Mariela Mitchel Díaz Tovar**",
      "metadata": {}
    },
    {
      "cell_type": "markdown",
      "source": "Actualmente soy una estudiante universitaria",
      "metadata": {}
    },
    {
      "cell_type": "markdown",
      "source": "*Estoy interesada en la Data Science porque es un campo muy moderno y que puede estar presente en cualquier ámbito de nuestra vida*\n*Estoy interesada en la Data Science porque forma parte de mi plan de estudios y formación académica, además es la primera vez que estudio a profundidad la Ciencia de Datos*",
      "metadata": {}
    },
    {
      "cell_type": "markdown",
      "source": "<h3> Mi código debe de ser ejecutado y mostrar una salida",
      "metadata": {}
    },
    {
      "cell_type": "code",
      "source": "25 + 25 + 100",
      "metadata": {
        "trusted": true
      },
      "execution_count": 9,
      "outputs": [
        {
          "execution_count": 9,
          "output_type": "execute_result",
          "data": {
            "text/plain": "150"
          },
          "metadata": {}
        }
      ]
    },
    {
      "cell_type": "markdown",
      "source": "- Primera: Este es el primer elemento \n- Segunda: Para esto se utiliza Markdown\n- Tercera: Guión para crear lista de viñetas\n---\n\n![Gatito en una caja](https://images.hola.com/imagenes/mascotas/20230125225185/gato-caja-juguete-ideal-dn/1-195-112/adobe-gato-caja-t.jpg)\n\n![Perrito en patineta](https://conociendoamiperro.com/wp-content/uploads/2020/08/a-dog-skateboarding-F3AGU7N-1.jpg)\n\n---\n\n``` Este es un bloque de código ```",
      "metadata": {}
    }
  ]
}